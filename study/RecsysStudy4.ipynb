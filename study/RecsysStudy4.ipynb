{
 "cells": [
  {
   "cell_type": "markdown",
   "metadata": {},
   "source": [
    "협업 필터링 - 사용자의 패턴, 평점을 통해 다른 사람들과 비교 후 추천하는 과정\n",
    "\n",
    "최근접 알고리즘, 잠재 알고리즘으로 나뉨"
   ]
  },
  {
   "cell_type": "markdown",
   "metadata": {},
   "source": [
    "최근접 알고리즘 \n",
    "\n",
    "유저 베이스드 - 비슷한 사용자를 찾아 비슷한 사용자가 본 아이템을 추천하는 것\n",
    "\n",
    "아이템 베이스드 - 비슷한 아이템의 평점을 찾아 추천하는 것"
   ]
  },
  {
   "cell_type": "markdown",
   "metadata": {},
   "source": [
    "KNN 알고리즘 - K개의 Neighbors를 통해 예측하는 것 \n",
    "\n",
    "IN User Based \n",
    "\n",
    "유저간의 유사도를 먼저 계산 (코사인과 피어슨 등) -> 유사한 K 명을 사용해 예측 및 계산! -> 원래 후한 평점을 주는 사람들이 많은 경우에는 유사도가 높게 나옴 -> 이를 보정해주는 것이 필요함 (평균을 빼 Bias를 제거하는 등)\n",
    "\n",
    "IN Item Based\n",
    "\n",
    "아이템간의 유사도를 먼저 계산 -> 유사한 K 개의 아이템을 사용해 예측 및 계산! -> 이 또한 Bias를 제거하는 작업 필요\n",
    "\n",
    "Neighborhood Based Collaborative Filtering \n",
    "\n",
    "장점 - 알고리즘이 직관적이고 해석이 쉬움, 모델이 Robust함\n",
    "\n",
    "단점 - 시간, 속도, 메모리가 많이 필요, 애초에 인기가 많은 아이템 위주로 추천하기 때문에 신규 아이템에 대한 추천이 어려움"
   ]
  },
  {
   "cell_type": "markdown",
   "metadata": {},
   "source": [
    "잠재 알고리즘 \n",
    "\n",
    "아이템, 유저 매트릭스를 유저의 Latent matrix와 아이템의 Latent matrix로 분해해 잠재 요인을 내적 해 평점 매트릭스를 계산하는 것 \n",
    "\n",
    "이 Latent matrix들로 잠재 요인도 찾아 볼 수 있음 \n",
    "\n",
    "SGD는 유저 matrix와 아이템 matrix의 내적과 평점 매트릭스 간 차이를 가장 작게 해주는 J 값을 찾는 것(gradient descent를 진행) 솔직히 잘 모르겠음.. \n",
    "\n",
    "딥러닝 Loss Function을 모두 사용할 수 있음~~ 왕 조아\n",
    "\n",
    "ALS는 두 행렬 중 하나를 고정시키고, 다른 행렬을 최적화 하는 것. 그 다음 다른 행렬을 고정시키고, 첫번째 행렬을 최적화 하는 것을 반복하는 것.\n",
    "수렴된 행렬을 찾을 수 있는 장점이 있음 (구해야 하는 값은 0으로 정해놓고 해용) [선형 회귀랑 유사한 듯?]"
   ]
  },
  {
   "cell_type": "markdown",
   "metadata": {},
   "source": [
    "ALS SGD보다 수렴속도가 빠르지만 Loss Squares 만 사용 해야함.."
   ]
  },
  {
   "cell_type": "markdown",
   "metadata": {},
   "source": [
    "https://www.kaggle.com/code/chocozzz/00-sgd-1"
   ]
  },
  {
   "cell_type": "markdown",
   "metadata": {},
   "source": [
    "https://www.kaggle.com/code/chocozzz/00-als"
   ]
  },
  {
   "cell_type": "markdown",
   "metadata": {},
   "source": [
    "협업 필터링\n",
    "\n",
    "장점 - 도메인 지식 필요 없음, 사용자의 새로운 흥미 파악 가능, 시작 단계 모델로 선택하기 좋음 \n",
    "\n",
    "단점 - 신규 아이템에 다루기 힘듬, side features(고객의 개인정보, 아이템 추가정보)를 포함시키기 어려움"
   ]
  }
 ],
 "metadata": {
  "kernelspec": {
   "display_name": "Python 3.10.5 64-bit",
   "language": "python",
   "name": "python3"
  },
  "language_info": {
   "codemirror_mode": {
    "name": "ipython",
    "version": 3
   },
   "file_extension": ".py",
   "mimetype": "text/x-python",
   "name": "python",
   "nbconvert_exporter": "python",
   "pygments_lexer": "ipython3",
   "version": "3.10.5"
  },
  "orig_nbformat": 4,
  "vscode": {
   "interpreter": {
    "hash": "988406a6a5244ae04d06c213669457cafee026e4f8dd3b9ccd447563e7a6ef62"
   }
  }
 },
 "nbformat": 4,
 "nbformat_minor": 2
}
